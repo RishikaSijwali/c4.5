{
 "cells": [
  {
   "cell_type": "code",
   "execution_count": 1,
   "metadata": {},
   "outputs": [],
   "source": [
    "import pandas as pd \n",
    "import numpy as np\n",
    "from sklearn.tree import DecisionTreeClassifier # Import Decision Tree Classifier\n",
    "from sklearn.model_selection import train_test_split # Import train_test_split function\n",
    "from sklearn.metrics import accuracy_score\n",
    "from sklearn import tree\n",
    "from sklearn.model_selection import train_test_split\n",
    "from sklearn import metrics\n",
    "from sklearn.externals.six import StringIO  \n",
    "from IPython.display import Image  \n",
    "from sklearn.tree import export_graphviz\n",
    "import pydotplus"
   ]
  },
  {
   "cell_type": "code",
   "execution_count": 3,
   "metadata": {},
   "outputs": [
    {
     "data": {
      "text/html": [
       "<div>\n",
       "<style scoped>\n",
       "    .dataframe tbody tr th:only-of-type {\n",
       "        vertical-align: middle;\n",
       "    }\n",
       "\n",
       "    .dataframe tbody tr th {\n",
       "        vertical-align: top;\n",
       "    }\n",
       "\n",
       "    .dataframe thead th {\n",
       "        text-align: right;\n",
       "    }\n",
       "</style>\n",
       "<table border=\"1\" class=\"dataframe\">\n",
       "  <thead>\n",
       "    <tr style=\"text-align: right;\">\n",
       "      <th></th>\n",
       "      <th>MonthYear</th>\n",
       "      <th>Country</th>\n",
       "      <th>StoreID</th>\n",
       "      <th>City</th>\n",
       "      <th>Dept_ID</th>\n",
       "      <th>Dept. Name</th>\n",
       "      <th>HoursOwn</th>\n",
       "      <th>HoursLease</th>\n",
       "      <th>Sales units</th>\n",
       "      <th>Turnover</th>\n",
       "      <th>Opening hours</th>\n",
       "    </tr>\n",
       "  </thead>\n",
       "  <tbody>\n",
       "    <tr>\n",
       "      <th>0</th>\n",
       "      <td>10.2016</td>\n",
       "      <td>United Kingdom</td>\n",
       "      <td>88253.0</td>\n",
       "      <td>London (I)</td>\n",
       "      <td>1.0</td>\n",
       "      <td>Dry</td>\n",
       "      <td>3184.76</td>\n",
       "      <td>0.0</td>\n",
       "      <td>398560.0</td>\n",
       "      <td>1226244.0</td>\n",
       "      <td>Type A</td>\n",
       "    </tr>\n",
       "    <tr>\n",
       "      <th>1</th>\n",
       "      <td>10.2016</td>\n",
       "      <td>United Kingdom</td>\n",
       "      <td>88253.0</td>\n",
       "      <td>London (I)</td>\n",
       "      <td>2.0</td>\n",
       "      <td>Frozen</td>\n",
       "      <td>1582.94</td>\n",
       "      <td>0.0</td>\n",
       "      <td>82725.0</td>\n",
       "      <td>387810.0</td>\n",
       "      <td>Type A</td>\n",
       "    </tr>\n",
       "    <tr>\n",
       "      <th>2</th>\n",
       "      <td>10.2016</td>\n",
       "      <td>United Kingdom</td>\n",
       "      <td>88253.0</td>\n",
       "      <td>London (I)</td>\n",
       "      <td>3.0</td>\n",
       "      <td>other</td>\n",
       "      <td>47.205</td>\n",
       "      <td>0.0</td>\n",
       "      <td>438400.0</td>\n",
       "      <td>654657.0</td>\n",
       "      <td>Type A</td>\n",
       "    </tr>\n",
       "  </tbody>\n",
       "</table>\n",
       "</div>"
      ],
      "text/plain": [
       "   MonthYear         Country  StoreID        City  Dept_ID Dept. Name  \\\n",
       "0    10.2016  United Kingdom  88253.0  London (I)      1.0        Dry   \n",
       "1    10.2016  United Kingdom  88253.0  London (I)      2.0     Frozen   \n",
       "2    10.2016  United Kingdom  88253.0  London (I)      3.0      other   \n",
       "\n",
       "  HoursOwn  HoursLease  Sales units   Turnover Opening hours  \n",
       "0  3184.76         0.0     398560.0  1226244.0        Type A  \n",
       "1  1582.94         0.0      82725.0   387810.0        Type A  \n",
       "2   47.205         0.0     438400.0   654657.0        Type A  "
      ]
     },
     "execution_count": 3,
     "metadata": {},
     "output_type": "execute_result"
    }
   ],
   "source": [
    "\n",
    "r = pd.read_excel (r'E:\\data set\\salesworkload.xlsx')\n",
    "r.to_csv (r'E:\\data set\\salesworkload.csv', index = None, header=True)\n",
    "d=r.drop(['Unnamed: 1', 'Unnamed: 11', 'Unnamed: 12'], axis=1)\n",
    "d.head(3)"
   ]
  },
  {
   "cell_type": "code",
   "execution_count": 4,
   "metadata": {},
   "outputs": [],
   "source": [
    "d.isna().sum()\n",
    "d.dropna(inplace=True)"
   ]
  },
  {
   "cell_type": "code",
   "execution_count": 5,
   "metadata": {},
   "outputs": [
    {
     "data": {
      "text/html": [
       "<div>\n",
       "<style scoped>\n",
       "    .dataframe tbody tr th:only-of-type {\n",
       "        vertical-align: middle;\n",
       "    }\n",
       "\n",
       "    .dataframe tbody tr th {\n",
       "        vertical-align: top;\n",
       "    }\n",
       "\n",
       "    .dataframe thead th {\n",
       "        text-align: right;\n",
       "    }\n",
       "</style>\n",
       "<table border=\"1\" class=\"dataframe\">\n",
       "  <thead>\n",
       "    <tr style=\"text-align: right;\">\n",
       "      <th></th>\n",
       "      <th>Opening hours</th>\n",
       "      <th>Turnover</th>\n",
       "      <th>class1</th>\n",
       "      <th>class2</th>\n",
       "    </tr>\n",
       "  </thead>\n",
       "  <tbody>\n",
       "    <tr>\n",
       "      <th>0</th>\n",
       "      <td>Type A</td>\n",
       "      <td>1226244.0</td>\n",
       "      <td>bad</td>\n",
       "      <td>0</td>\n",
       "    </tr>\n",
       "    <tr>\n",
       "      <th>1</th>\n",
       "      <td>Type A</td>\n",
       "      <td>387810.0</td>\n",
       "      <td>bad</td>\n",
       "      <td>0</td>\n",
       "    </tr>\n",
       "    <tr>\n",
       "      <th>2</th>\n",
       "      <td>Type A</td>\n",
       "      <td>654657.0</td>\n",
       "      <td>bad</td>\n",
       "      <td>0</td>\n",
       "    </tr>\n",
       "  </tbody>\n",
       "</table>\n",
       "</div>"
      ],
      "text/plain": [
       "  Opening hours   Turnover class1  class2\n",
       "0        Type A  1226244.0    bad       0\n",
       "1        Type A   387810.0    bad       0\n",
       "2        Type A   654657.0    bad       0"
      ]
     },
     "execution_count": 5,
     "metadata": {},
     "output_type": "execute_result"
    }
   ],
   "source": [
    "dat=d['class2'] = np.where(d['Turnover']>=3.721393e+06,1 ,0 )\n",
    "dat=d['class1'] = np.where(d['Turnover']>=3.721393e+06, 'good', 'bad')\n",
    "dat= d[['Opening hours',  'Turnover','class1','class2']]\n",
    "dat.head(3)"
   ]
  },
  {
   "cell_type": "code",
   "execution_count": 6,
   "metadata": {},
   "outputs": [],
   "source": [
    "data= d[[ 'Turnover','class2']]"
   ]
  },
  {
   "cell_type": "code",
   "execution_count": 8,
   "metadata": {},
   "outputs": [],
   "source": [
    "import math\n",
    "def entropy(target_col):\n",
    "    \n",
    "    elements,counts = np.unique(target_col,return_counts = True)\n",
    "    entropy = np.sum([(-counts[i]/np.sum(counts))*np.log2(counts[i]/np.sum(counts)) for i in range(len(elements))])\n",
    "    return entropy"
   ]
  },
  {
   "cell_type": "code",
   "execution_count": 9,
   "metadata": {},
   "outputs": [],
   "source": [
    "def InfoGainratio(data,split_attribute_name,target_name=\"class\"):\n",
    "    \n",
    "    #Calculate the entropy of the total dataset\n",
    "    total_entropy = entropy(data[target_name])\n",
    "    \n",
    "    #Calculate the values and the corresponding counts for the split attribute \n",
    "    vals,counts= np.unique(data[split_attribute_name],return_counts=True)\n",
    "    \n",
    "    #Calculate the weighted entropy\n",
    "    Weighted_Entropy = np.sum([(counts[i]/np.sum(counts))*entropy(data.where(data[split_attribute_name]==vals[i]).dropna()[target_name]) for i in range(len(vals))])\n",
    "    \n",
    "    #Calculate the information gain ratio\n",
    "    Information_Gain = total_entropy - Weighted_Entropy\n",
    "    \n",
    "    #threshold_splitinfo = -subset1_probability * math.log(subset1_probability, 2)-subset2_probability*math.log(subset2_probability, 2)\n",
    "    #gainratio = Information_Gain/ threshold_splitinfo\n",
    "    \n",
    "    return Information_Gain"
   ]
  },
  {
   "cell_type": "code",
   "execution_count": 10,
   "metadata": {},
   "outputs": [],
   "source": [
    "def algo(data,originaldata,features,target_attribute_name=\"class\",parent_node_class = None):\n",
    "    \n",
    "    if len(np.unique(data[target_attribute_name])) <= 1:\n",
    "        return np.unique(data[target_attribute_name])[0]\n",
    "    \n",
    "    elif len(data)==0:\n",
    "        return np.unique(originaldata[target_attribute_name])[np.argmax(np.unique(originaldata[target_attribute_name],return_counts=True)[1])]\n",
    "    \n",
    "    elif len(features) ==0:\n",
    "        return parent_node_class\n",
    "    \n",
    "    else:\n",
    "        \n",
    "        parent_node_class = np.unique(data[target_attribute_name])[np.argmax(np.unique(data[target_attribute_name],return_counts=True)[1])]\n",
    "        item_values = [InfoGainratio(data,feature,target_attribute_name) for feature in features] #Return the information gain values for the features in the dataset\n",
    "        best_feature_index = np.argmax(item_values)\n",
    "        best_feature = features[best_feature_index]\n",
    "        \n",
    "        tree = {best_feature:{}}\n",
    "        features = [i for i in features if i != best_feature]\n",
    "        for value in np.unique(data[best_feature]):\n",
    "            value = value\n",
    "            sub_data = data.where(data[best_feature] == value).dropna()\n",
    "            subtree = algo(sub_data,data,features,target_attribute_name,parent_node_class)\n",
    "            tree[best_feature][value] = subtree\n",
    "            \n",
    "        return(tree)    "
   ]
  },
  {
   "cell_type": "code",
   "execution_count": 11,
   "metadata": {},
   "outputs": [],
   "source": [
    "from pprint import pprint\n",
    "def algo(data,originaldata,features,target_attribute_name=\"class2\",parent_node_class = None):\n",
    "    \n",
    "    if len(np.unique(data[target_attribute_name])) <= 1:\n",
    "        return np.unique(data[target_attribute_name])[0]\n",
    "    elif len(data)==0:\n",
    "        return np.unique(originaldata[target_attribute_name])[np.argmax(np.unique(originaldata[target_attribute_name],return_counts=True)[1])]\n",
    "    \n",
    "    \n",
    "    elif len(features) ==0:\n",
    "        return parent_node_class\n",
    "    \n",
    "    else:\n",
    "        \n",
    "        parent_node_class = np.unique(data[target_attribute_name])[np.argmax(np.unique(data[target_attribute_name],return_counts=True)[1])]\n",
    "        item_values = [InfoGainratio(data,feature,target_attribute_name) for feature in features]\n",
    "        best_feature_index = np.argmax(item_values)\n",
    "        best_feature = features[best_feature_index]\n",
    "        tree = {best_feature:{}}\n",
    "        features = [i for i in features if i != best_feature]\n",
    "        \n",
    "        for value in np.unique(data[best_feature]):\n",
    "            value = value\n",
    "            sub_data = data.where(data[best_feature] == value).dropna()\n",
    "            subtree = algo(sub_data,data,features,target_attribute_name,parent_node_class)\n",
    "            tree[best_feature][value] = subtree\n",
    "            \n",
    "        return(tree)    \n",
    "                "
   ]
  },
  {
   "cell_type": "code",
   "execution_count": 12,
   "metadata": {},
   "outputs": [],
   "source": [
    "def predict(query,tree,default = 1):\n",
    "    \n",
    "    for key in list(query.keys()):\n",
    "        if key in list(tree.keys()):\n",
    "            \n",
    "            try:\n",
    "                result = tree[key][query[key]] \n",
    "            except:\n",
    "                return default\n",
    "  \n",
    "            result = tree[key][query[key]]\n",
    "            \n",
    "            if isinstance(result,dict):\n",
    "                return predict(query,result)\n",
    "\n",
    "            else:\n",
    "                return result"
   ]
  },
  {
   "cell_type": "code",
   "execution_count": 13,
   "metadata": {},
   "outputs": [],
   "source": [
    "def train_test_split(data):\n",
    "    training_data = data.iloc[:80].reset_index(drop=True)\n",
    "    \n",
    "    testing_data = data.iloc[80:].reset_index(drop=True)\n",
    "    return training_data,testing_data\n",
    "\n",
    "training_data = train_test_split(data)[0]\n",
    "testing_data = train_test_split(data)[1] \n"
   ]
  },
  {
   "cell_type": "code",
   "execution_count": 39,
   "metadata": {},
   "outputs": [],
   "source": [
    "def test(data,tree):\n",
    "    \n",
    "    queries = data.iloc[:,:-1].to_dict(orient = \"records\")\n",
    "    \n",
    "    predicted = pd.DataFrame(columns=[\"predicted\"]) \n",
    "    \n",
    "    for i in range(len(data)):\n",
    "        predicted.loc[i,\"predicted\"] = predict(queries[i],tree,1.0) \n",
    "    print('The prediction accuracy is: ',(np.sum(predicted[\"predicted\"] == data[\"class2\"])/len(data))*100,'%')"
   ]
  },
  {
   "cell_type": "code",
   "execution_count": 40,
   "metadata": {
    "scrolled": true
   },
   "outputs": [
    {
     "name": "stdout",
     "output_type": "stream",
     "text": [
      "{'Turnover': {0.0: 0.0,\n",
      "              243.0: 0.0,\n",
      "              3150.0: 0.0,\n",
      "              140016.0: 0.0,\n",
      "              170775.0: 0.0,\n",
      "              251709.0: 0.0,\n",
      "              264981.0: 0.0,\n",
      "              272001.0: 0.0,\n",
      "              290400.0: 0.0,\n",
      "              311598.0: 0.0,\n",
      "              313425.0: 0.0,\n",
      "              329397.0: 0.0,\n",
      "              364386.0: 0.0,\n",
      "              369015.0: 0.0,\n",
      "              382380.0: 0.0,\n",
      "              387810.0: 0.0,\n",
      "              444939.0: 0.0,\n",
      "              450015.0: 0.0,\n",
      "              451797.0: 0.0,\n",
      "              453528.0: 0.0,\n",
      "              499434.0: 0.0,\n",
      "              511839.0: 0.0,\n",
      "              523590.0: 0.0,\n",
      "              573678.0: 0.0,\n",
      "              583395.0: 0.0,\n",
      "              654657.0: 0.0,\n",
      "              825447.0: 0.0,\n",
      "              842403.0: 0.0,\n",
      "              859218.0: 0.0,\n",
      "              1068444.0: 0.0,\n",
      "              1085793.0: 0.0,\n",
      "              1155525.0: 0.0,\n",
      "              1225689.0: 0.0,\n",
      "              1226244.0: 0.0,\n",
      "              1291830.0: 0.0,\n",
      "              1335438.0: 0.0,\n",
      "              1615341.0: 0.0,\n",
      "              1752483.0: 0.0,\n",
      "              1822749.0: 0.0,\n",
      "              1853250.0: 0.0,\n",
      "              1964805.0: 0.0,\n",
      "              2031642.0: 0.0,\n",
      "              2355756.0: 0.0,\n",
      "              2366745.0: 0.0,\n",
      "              2621853.0: 0.0,\n",
      "              2648175.0: 0.0,\n",
      "              2824530.0: 0.0,\n",
      "              3390450.0: 0.0,\n",
      "              3564546.0: 0.0,\n",
      "              4296420.0: 1.0,\n",
      "              5522259.0: 1.0,\n",
      "              5617137.0: 1.0,\n",
      "              7487064.0: 1.0,\n",
      "              8395014.0: 1.0,\n",
      "              8714679.0: 1.0,\n",
      "              10552749.0: 1.0,\n",
      "              11070435.0: 1.0,\n",
      "              12831339.0: 1.0,\n",
      "              14032338.0: 1.0,\n",
      "              16134075.0: 1.0,\n",
      "              19698621.0: 1.0,\n",
      "              21423312.0: 1.0,\n",
      "              25719732.0: 1.0}}\n",
      "The prediction accuracy is:  43.02509907529723 %\n"
     ]
    }
   ],
   "source": [
    "tree = algo(training_data,training_data,training_data.columns[:-1])\n",
    "pprint(tree)\n",
    "test(testing_data,tree)"
   ]
  },
  {
   "cell_type": "code",
   "execution_count": 41,
   "metadata": {},
   "outputs": [],
   "source": [
    "train_features = data.iloc[:80,:-1]\n",
    "test_features = data.iloc[80:,:-1]\n",
    "train_targets = data.iloc[:80,-1]\n",
    "test_targets = data.iloc[80:,-1]\n"
   ]
  },
  {
   "cell_type": "code",
   "execution_count": 42,
   "metadata": {},
   "outputs": [],
   "source": [
    "tree = DecisionTreeClassifier(criterion = 'entropy').fit(train_features,train_targets)"
   ]
  },
  {
   "cell_type": "code",
   "execution_count": 43,
   "metadata": {},
   "outputs": [],
   "source": [
    "prediction = tree.predict(test_features)\n"
   ]
  },
  {
   "cell_type": "code",
   "execution_count": 44,
   "metadata": {},
   "outputs": [
    {
     "name": "stdout",
     "output_type": "stream",
     "text": [
      "The prediction accuracy is:  99.36591809775429 %\n"
     ]
    }
   ],
   "source": [
    "print(\"The prediction accuracy is: \",tree.score(test_features,test_targets)*100,\"%\")"
   ]
  },
  {
   "cell_type": "code",
   "execution_count": 42,
   "metadata": {},
   "outputs": [
    {
     "data": {
      "text/html": [
       "<div>\n",
       "<style scoped>\n",
       "    .dataframe tbody tr th:only-of-type {\n",
       "        vertical-align: middle;\n",
       "    }\n",
       "\n",
       "    .dataframe tbody tr th {\n",
       "        vertical-align: top;\n",
       "    }\n",
       "\n",
       "    .dataframe thead th {\n",
       "        text-align: right;\n",
       "    }\n",
       "</style>\n",
       "<table border=\"1\" class=\"dataframe\">\n",
       "  <thead>\n",
       "    <tr style=\"text-align: right;\">\n",
       "      <th></th>\n",
       "      <th>Sales units</th>\n",
       "      <th>class3</th>\n",
       "    </tr>\n",
       "  </thead>\n",
       "  <tbody>\n",
       "    <tr>\n",
       "      <th>0</th>\n",
       "      <td>398560.0</td>\n",
       "      <td>0</td>\n",
       "    </tr>\n",
       "    <tr>\n",
       "      <th>1</th>\n",
       "      <td>82725.0</td>\n",
       "      <td>0</td>\n",
       "    </tr>\n",
       "    <tr>\n",
       "      <th>2</th>\n",
       "      <td>438400.0</td>\n",
       "      <td>0</td>\n",
       "    </tr>\n",
       "  </tbody>\n",
       "</table>\n",
       "</div>"
      ],
      "text/plain": [
       "   Sales units  class3\n",
       "0     398560.0       0\n",
       "1      82725.0       0\n",
       "2     438400.0       0"
      ]
     },
     "execution_count": 42,
     "metadata": {},
     "output_type": "execute_result"
    }
   ],
   "source": [
    "d['class3'] = np.where(d['Sales units']>=1.076471e+06,1 ,0 )\n",
    "d4= d[[ 'Sales units','class3']]\n",
    "d4.head(3)"
   ]
  },
  {
   "cell_type": "code",
   "execution_count": 58,
   "metadata": {},
   "outputs": [
    {
     "data": {
      "text/plain": [
       "DecisionTreeClassifier(class_weight=None, criterion='entropy', max_depth=3,\n",
       "            max_features=None, max_leaf_nodes=None,\n",
       "            min_impurity_decrease=0.0, min_impurity_split=None,\n",
       "            min_samples_leaf=5, min_samples_split=2,\n",
       "            min_weight_fraction_leaf=0.0, presort=False, random_state=100,\n",
       "            splitter='best')"
      ]
     },
     "execution_count": 58,
     "metadata": {},
     "output_type": "execute_result"
    }
   ],
   "source": [
    "from sklearn.tree import DecisionTreeClassifier # Import Decision Tree Classifier\n",
    "from sklearn.model_selection import train_test_split # Import train_test_split function\n",
    "\n",
    "from sklearn.metrics import accuracy_score\n",
    "from sklearn import tree\n",
    "X = d4.values[:, 1:5]\n",
    "Y = d4.values[:,0]\n",
    "X_train, X_test, y_train, y_test = train_test_split( X, Y, test_size = 0.3, random_state = 100)\n",
    "clf_entropy = DecisionTreeClassifier(criterion = \"entropy\", random_state = 100,\n",
    " max_depth=3, min_samples_leaf=5)            #tree\n",
    "clf_entropy.fit(X_train, y_train)"
   ]
  },
  {
   "cell_type": "code",
   "execution_count": 59,
   "metadata": {},
   "outputs": [
    {
     "data": {
      "text/plain": [
       "array([0., 0., 0., ..., 0., 0., 0.])"
      ]
     },
     "execution_count": 59,
     "metadata": {},
     "output_type": "execute_result"
    }
   ],
   "source": [
    "y_pred_en = clf_entropy.predict(X_test) #information gain \n",
    "y_pred_en"
   ]
  },
  {
   "cell_type": "code",
   "execution_count": 60,
   "metadata": {},
   "outputs": [
    {
     "name": "stdout",
     "output_type": "stream",
     "text": [
      "Accuracy is  1.7429193899782136\n"
     ]
    }
   ],
   "source": [
    "print (\"Accuracy is \", accuracy_score(y_test,y_pred_en)*100)"
   ]
  },
  {
   "cell_type": "code",
   "execution_count": 61,
   "metadata": {},
   "outputs": [],
   "source": [
    "feature_cols = ['Sales units']\n",
    "X = d4[feature_cols] # Features\n",
    "y = d4.class3 # Target variable"
   ]
  },
  {
   "cell_type": "code",
   "execution_count": 62,
   "metadata": {},
   "outputs": [],
   "source": [
    "X_train, X_test, y_train, y_test = train_test_split(X, y, test_size=0.3, random_state=1)"
   ]
  },
  {
   "cell_type": "code",
   "execution_count": 63,
   "metadata": {},
   "outputs": [],
   "source": [
    "# Create Decision Tree classifer object\n",
    "clf = DecisionTreeClassifier()\n",
    "\n",
    "# Train Decision Tree Classifer\n",
    "clf = clf.fit(X_train,y_train)\n",
    "\n",
    "#Predict the response for test dataset\n",
    "y_pred = clf.predict(X_test)"
   ]
  },
  {
   "cell_type": "code",
   "execution_count": 64,
   "metadata": {},
   "outputs": [
    {
     "name": "stdout",
     "output_type": "stream",
     "text": [
      "Accuracy: 1.0\n"
     ]
    }
   ],
   "source": [
    "from sklearn.model_selection import train_test_split\n",
    "from sklearn import metrics \n",
    "clf = DecisionTreeClassifier(criterion=\"entropy\", max_depth=3)\n",
    "\n",
    "# Train Decision Tree Classifer\n",
    "clf = clf.fit(X_train,y_train)\n",
    "\n",
    "#Predict the response for test dataset\n",
    "y_pred = clf.predict(X_test)\n",
    "\n",
    "# Model Accuracy, how often is the classifier correct?\n",
    "print(\"Accuracy:\",metrics.accuracy_score(y_test, y_pred))"
   ]
  },
  {
   "cell_type": "code",
   "execution_count": 65,
   "metadata": {},
   "outputs": [
    {
     "data": {
      "image/png": "[encoded data removed]",
      "text/plain": [
       "<IPython.core.display.Image object>"
      ]
     },
     "execution_count": 65,
     "metadata": {},
     "output_type": "execute_result"
    }
   ],
   "source": [
    "from sklearn.externals.six import StringIO  \n",
    "from IPython.display import Image  \n",
    "from sklearn.tree import export_graphviz\n",
    "import pydotplus\n",
    "dot_data = StringIO()\n",
    "export_graphviz(clf, out_file=dot_data,  \n",
    "                filled=True, rounded=True,\n",
    "                special_characters=True, feature_names = feature_cols,class_names=['0','1'])\n",
    "graph = pydotplus.graph_from_dot_data(dot_data.getvalue())  \n",
    "graph.write_png('turnover.png')\n",
    "Image(graph.create_png())"
   ]
  },
  {
   "cell_type": "code",
   "execution_count": null,
   "metadata": {},
   "outputs": [],
   "source": []
  },
  {
   "cell_type": "code",
   "execution_count": null,
   "metadata": {},
   "outputs": [],
   "source": []
  },
  {
   "cell_type": "code",
   "execution_count": null,
   "metadata": {},
   "outputs": [],
   "source": []
  },
  {
   "cell_type": "code",
   "execution_count": null,
   "metadata": {},
   "outputs": [],
   "source": []
  },
  {
   "cell_type": "code",
   "execution_count": null,
   "metadata": {},
   "outputs": [],
   "source": []
  }
 ],
 "metadata": {
  "kernelspec": {
   "display_name": "Python 3",
   "language": "python",
   "name": "python3"
  },
  "language_info": {
   "codemirror_mode": {
    "name": "ipython",
    "version": 3
   },
   "file_extension": ".py",
   "mimetype": "text/x-python",
   "name": "python",
   "nbconvert_exporter": "python",
   "pygments_lexer": "ipython3",
   "version": "3.7.0"
  }
 },
 "nbformat": 4,
 "nbformat_minor": 2
}
